{
 "cells": [
  {
   "cell_type": "code",
   "execution_count": 1,
   "id": "da482203",
   "metadata": {
    "scrolled": false
   },
   "outputs": [
    {
     "data": {
      "application/vnd.jupyter.widget-view+json": {
       "model_id": "324ecee43ad74294844fddb30fabcee4",
       "version_major": 2,
       "version_minor": 0
      },
      "text/plain": [
       "HBox(children=(HBox(children=(Text(value='', description='iSpec Path:', placeholder='Enter iSpec Path', style=…"
      ]
     },
     "metadata": {},
     "output_type": "display_data"
    },
    {
     "data": {
      "application/vnd.jupyter.widget-view+json": {
       "model_id": "b7adc78991fc461097206025017a6fe9",
       "version_major": 2,
       "version_minor": 0
      },
      "text/plain": [
       "HBox(children=(HBox(children=(Text(value='', description='Data Path:', placeholder='Enter Data Path', style=De…"
      ]
     },
     "metadata": {},
     "output_type": "display_data"
    },
    {
     "name": "stdout",
     "output_type": "stream",
     "text": [
      "\n",
      "Are you analysing one target or multiple targets?\n"
     ]
    },
    {
     "data": {
      "application/vnd.jupyter.widget-view+json": {
       "model_id": "8484af3375714995beff08995315b84d",
       "version_major": 2,
       "version_minor": 0
      },
      "text/plain": [
       "VBox(children=(VBox(children=(ToggleButtons(button_style='danger', options=('Multiple', 'Single'), value='Mult…"
      ]
     },
     "metadata": {},
     "output_type": "display_data"
    },
    {
     "name": "stdout",
     "output_type": "stream",
     "text": [
      "Which spectral type would you like to base input parameters upon? This will be used for all targets.\n"
     ]
    },
    {
     "data": {
      "application/vnd.jupyter.widget-view+json": {
       "model_id": "fbe287eff7684613aed0fb900d6a5bdc",
       "version_major": 2,
       "version_minor": 0
      },
      "text/plain": [
       "VBox(children=(VBox(children=(ToggleButtons(button_style='danger', options=('G2', 'K5', 'F3'), value='G2'), Bu…"
      ]
     },
     "metadata": {},
     "output_type": "display_data"
    },
    {
     "name": "stdout",
     "output_type": "stream",
     "text": [
      "Do your spectra require coadding?\n"
     ]
    },
    {
     "data": {
      "application/vnd.jupyter.widget-view+json": {
       "model_id": "309a70762b52434fb5d83aa8c82c783d",
       "version_major": 2,
       "version_minor": 0
      },
      "text/plain": [
       "VBox(children=(VBox(children=(ToggleButtons(button_style='danger', options=('Yes', 'No'), value='Yes'), Button…"
      ]
     },
     "metadata": {},
     "output_type": "display_data"
    },
    {
     "name": "stdout",
     "output_type": "stream",
     "text": [
      "What is the spectral resolution?\n"
     ]
    },
    {
     "data": {
      "application/vnd.jupyter.widget-view+json": {
       "model_id": "1ebdfa96d03f4475ae9c0a214608e1e0",
       "version_major": 2,
       "version_minor": 0
      },
      "text/plain": [
       "HBox(children=(HBox(children=(IntText(value=0, description='Resolution:'), Button(description='Set Resolution'…"
      ]
     },
     "metadata": {},
     "output_type": "display_data"
    },
    {
     "name": "stdout",
     "output_type": "stream",
     "text": [
      "What are your minimum and maximum wavelengths (nm)?\n"
     ]
    },
    {
     "data": {
      "application/vnd.jupyter.widget-view+json": {
       "model_id": "319fb784a5cd446c8cd8116f0888f627",
       "version_major": 2,
       "version_minor": 0
      },
      "text/plain": [
       "HBox(children=(HBox(children=(IntText(value=0, description='Minimum :'), IntText(value=0, description='Maximum…"
      ]
     },
     "metadata": {},
     "output_type": "display_data"
    },
    {
     "name": "stdout",
     "output_type": "stream",
     "text": [
      "What is the common string in your spectrum files? e.g. 'S1D'\n"
     ]
    },
    {
     "data": {
      "application/vnd.jupyter.widget-view+json": {
       "model_id": "c43a6c6a375047589a06c7bb08da2f25",
       "version_major": 2,
       "version_minor": 0
      },
      "text/plain": [
       "HBox(children=(HBox(children=(Text(value='', description='String:'), Button(description='Set String', style=Bu…"
      ]
     },
     "metadata": {},
     "output_type": "display_data"
    },
    {
     "name": "stdout",
     "output_type": "stream",
     "text": [
      "What is the wavelength unit of your spectra?\n"
     ]
    },
    {
     "data": {
      "application/vnd.jupyter.widget-view+json": {
       "model_id": "eee9f16d410f4206ad9a0ac2d6e9407d",
       "version_major": 2,
       "version_minor": 0
      },
      "text/plain": [
       "VBox(children=(VBox(children=(ToggleButtons(button_style='danger', options=('Nanometres', 'Angstroms'), value=…"
      ]
     },
     "metadata": {},
     "output_type": "display_data"
    }
   ],
   "source": [
    "import setup"
   ]
  },
  {
   "cell_type": "code",
   "execution_count": 2,
   "id": "f1ee7577",
   "metadata": {
    "scrolled": false
   },
   "outputs": [
    {
     "ename": "ModuleNotFoundError",
     "evalue": "No module named 'ispec'",
     "output_type": "error",
     "traceback": [
      "\u001b[0;31m---------------------------------------------------------------------------\u001b[0m",
      "\u001b[0;31mModuleNotFoundError\u001b[0m                       Traceback (most recent call last)",
      "\u001b[0;32m/tmp/ipykernel_127368/1581443454.py\u001b[0m in \u001b[0;36m<module>\u001b[0;34m\u001b[0m\n\u001b[0;32m----> 1\u001b[0;31m \u001b[0;32mimport\u001b[0m \u001b[0mcoadding\u001b[0m\u001b[0;34m\u001b[0m\u001b[0;34m\u001b[0m\u001b[0m\n\u001b[0m",
      "\u001b[0;32m~/PAWS/spectral_analysis-main/coadding.py\u001b[0m in \u001b[0;36m<module>\u001b[0;34m\u001b[0m\n\u001b[1;32m     24\u001b[0m \u001b[0;34m\u001b[0m\u001b[0m\n\u001b[1;32m     25\u001b[0m \u001b[0msys\u001b[0m\u001b[0;34m.\u001b[0m\u001b[0mpath\u001b[0m\u001b[0;34m.\u001b[0m\u001b[0minsert\u001b[0m\u001b[0;34m(\u001b[0m\u001b[0;36m0\u001b[0m\u001b[0;34m,\u001b[0m \u001b[0mos\u001b[0m\u001b[0;34m.\u001b[0m\u001b[0mpath\u001b[0m\u001b[0;34m.\u001b[0m\u001b[0mabspath\u001b[0m\u001b[0;34m(\u001b[0m\u001b[0mispec_dir\u001b[0m\u001b[0;34m)\u001b[0m\u001b[0;34m)\u001b[0m\u001b[0;34m\u001b[0m\u001b[0;34m\u001b[0m\u001b[0m\n\u001b[0;32m---> 26\u001b[0;31m \u001b[0;32mimport\u001b[0m \u001b[0mispec\u001b[0m\u001b[0;34m\u001b[0m\u001b[0;34m\u001b[0m\u001b[0m\n\u001b[0m\u001b[1;32m     27\u001b[0m \u001b[0mc_str\u001b[0m\u001b[0;34m=\u001b[0m\u001b[0ms1d_widget\u001b[0m\u001b[0;34m.\u001b[0m\u001b[0mvalue\u001b[0m\u001b[0;34m\u001b[0m\u001b[0;34m\u001b[0m\u001b[0m\n\u001b[1;32m     28\u001b[0m \u001b[0;32mdef\u001b[0m \u001b[0mdegrade_norm\u001b[0m\u001b[0;34m(\u001b[0m\u001b[0mb\u001b[0m\u001b[0;34m)\u001b[0m\u001b[0;34m:\u001b[0m\u001b[0;34m\u001b[0m\u001b[0;34m\u001b[0m\u001b[0m\n",
      "\u001b[0;31mModuleNotFoundError\u001b[0m: No module named 'ispec'"
     ]
    }
   ],
   "source": [
    "import coadding"
   ]
  },
  {
   "cell_type": "code",
   "execution_count": 2,
   "id": "33bb5219",
   "metadata": {},
   "outputs": [
    {
     "data": {
      "application/vnd.jupyter.widget-view+json": {
       "model_id": "e2e059ff652f4ee2a10cfebb9b3976ea",
       "version_major": 2,
       "version_minor": 0
      },
      "text/plain": [
       "VBox(children=(VBox(children=(Button(description='Run Analysis Preparation', style=ButtonStyle()),)), Output(l…"
      ]
     },
     "metadata": {},
     "output_type": "display_data"
    },
    {
     "name": "stdout",
     "output_type": "stream",
     "text": [
      "/home/ADF/axf859/BEBOP/J0000+29/\n"
     ]
    },
    {
     "name": "stderr",
     "output_type": "stream",
     "text": [
      "[2023-06-19 14:46:45,619] [INFO] [lines:fit_lines:1244]: Fitting line models...\n",
      "[2023-06-19 14:46:46,081] [INFO] [lines:fit_lines:1427]: 0.00%\n",
      "[2023-06-19 14:46:46,181] [INFO] [lines:fit_lines:1427]: 10.24%\n",
      "[2023-06-19 14:46:46,271] [INFO] [lines:fit_lines:1427]: 20.49%\n",
      "[2023-06-19 14:46:46,364] [INFO] [lines:fit_lines:1427]: 30.73%\n",
      "[2023-06-19 14:46:46,466] [INFO] [lines:fit_lines:1427]: 40.98%\n",
      "[2023-06-19 14:46:46,647] [INFO] [lines:fit_lines:1427]: 60.00%\n",
      "[2023-06-19 14:46:46,752] [INFO] [lines:fit_lines:1427]: 70.24%\n",
      "[2023-06-19 14:46:46,845] [INFO] [lines:fit_lines:1427]: 80.49%\n",
      "[2023-06-19 14:46:46,949] [INFO] [lines:fit_lines:1427]: 90.73%\n"
     ]
    },
    {
     "name": "stdout",
     "output_type": "stream",
     "text": [
      "Generating: 5700 3.80 0.05 0.00 1.14 \n",
      " > Selected Fe 1 lines for teff: 134 of 135\n",
      " > Selected Fe 2 lines for vmic: 11 of 13\n",
      " # Element:                   Fe 1 / Fe 2\n",
      "    Teff/Vmic slopes:            0.076895 0.728977\n",
      "   Abundances diff:             -0.449000\n",
      "   Abundances diff with model:  0.243000\n",
      "   Abundances stdev:            0.523775 0.799034\n",
      "   Abundances median:           -0.193000 0.256000\n",
      " - Chisq:                       7965.213076\n",
      "*Iter       1    CHI-SQUARE =  7965.213076  DOF =  0\n",
      "   teff = 5700  \n",
      "   logg = 3.8  \n",
      "   Vmic = 1.14  \n",
      "   MH = 0.05  \n",
      "   alpha = 0  \n",
      "Generating: 6200 3.80 0.05 0.00 1.14 \n",
      " # Element:                   Fe 1 / Fe 2\n",
      "    Teff/Vmic slopes:            0.011089 0.774759\n",
      "   Abundances diff:             -0.085000\n",
      "   Abundances diff with model:  -0.096000\n",
      "   Abundances stdev:            0.530290 0.794811\n",
      "   Abundances median:           0.146000 0.231000\n",
      " - Chisq:                       6175.99474\n",
      "Generating: 5700 4.30 0.05 0.00 1.14 \n",
      " # Element:                   Fe 1 / Fe 2\n",
      "    Teff/Vmic slopes:            0.068430 0.630260\n",
      "   Abundances diff:             -0.559500\n",
      "   Abundances diff with model:  0.237500\n",
      "   Abundances stdev:            0.504393 0.780640\n",
      "   Abundances median:           -0.187500 0.372000\n",
      " - Chisq:                       7725.505825\n",
      "Generating: 5700 3.80 0.05 0.00 1.64 \n",
      " # Element:                   Fe 1 / Fe 2\n",
      "    Teff/Vmic slopes:            0.107742 0.523211\n",
      "   Abundances diff:             -0.277500\n",
      "   Abundances diff with model:  0.308500\n",
      "   Abundances stdev:            0.504156 0.778585\n",
      "   Abundances median:           -0.258500 0.019000\n",
      " - Chisq:                       4584.643391\n",
      "Generating: 5700 3.80 0.10 0.00 1.14 \n",
      " # Element:                   Fe 1 / Fe 2\n",
      "    Teff/Vmic slopes:            0.077053 0.729313\n",
      "   Abundances diff:             -0.451000\n",
      "   Abundances diff with model:  0.291000\n",
      "   Abundances stdev:            0.523757 0.798701\n",
      "   Abundances median:           -0.191000 0.260000\n",
      " - Chisq:                       8253.356168\n",
      "Generating: 6163 5.00 0.14 0.00 1.72 \n",
      " # Element:                   Fe 1 / Fe 2\n",
      "    Teff/Vmic slopes:            0.031877 0.357437\n",
      "   Abundances diff:             -0.452000\n",
      "   Abundances diff with model:  0.158302\n",
      "   Abundances stdev:            0.471373 0.740723\n",
      "   Abundances median:           -0.016000 0.436000\n",
      " - Chisq:                       3586.813521\n",
      "*Iter       2    CHI-SQUARE =  3586.813521  DOF =  0\n",
      "   teff = 6162.694085  \n",
      "   logg = 5  \n",
      "   Vmic = 1.715274592  \n",
      "   MH = 0.1423019623  \n",
      "   alpha = 0  \n",
      "Generating: 6663 5.00 0.14 0.00 1.72 \n",
      " # Element:                   Fe 1 / Fe 2\n",
      "    Teff/Vmic slopes:            -0.024499 0.406391\n",
      "   Abundances diff:             -0.128500\n",
      "   Abundances diff with model:  -0.127198\n",
      "   Abundances stdev:            0.477174 0.737867\n",
      "   Abundances median:           0.269500 0.398000\n",
      " - Chisq:                       1991.660959\n",
      "Generating: 6163 4.50 0.14 0.00 1.72 \n",
      " # Element:                   Fe 1 / Fe 2\n",
      "    Teff/Vmic slopes:            0.039763 0.439370\n",
      "   Abundances diff:             -0.235000\n",
      "   Abundances diff with model:  0.147302\n",
      "   Abundances stdev:            0.481856 0.752980\n",
      "   Abundances median:           -0.005000 0.230000\n",
      " - Chisq:                       2723.520931\n",
      "Generating: 6163 5.00 0.14 0.00 2.22 \n",
      " # Element:                   Fe 1 / Fe 2\n",
      "    Teff/Vmic slopes:            0.051580 0.242266\n",
      "   Abundances diff:             -0.465500\n",
      "   Abundances diff with model:  0.204802\n",
      "   Abundances stdev:            0.468187 0.733459\n",
      "   Abundances median:           -0.062500 0.403000\n",
      " - Chisq:                       3180.435612\n",
      "Generating: 6163 5.00 0.19 0.00 1.72 \n",
      " # Element:                   Fe 1 / Fe 2\n",
      "    Teff/Vmic slopes:            0.031162 0.360836\n",
      "   Abundances diff:             -0.457500\n",
      "   Abundances diff with model:  0.202802\n",
      "   Abundances stdev:            0.471507 0.740922\n",
      "   Abundances median:           -0.010500 0.447000\n",
      " - Chisq:                       3804.799391\n",
      "Generating: 7068 5.00 0.40 0.00 3.64 \n",
      " # Element:                   Fe 1 / Fe 2\n",
      "    Teff/Vmic slopes:            -0.010684 0.045846\n",
      "   Abundances diff:             0.020500\n",
      "   Abundances diff with model:  0.047737\n",
      "   Abundances stdev:            0.466241 0.712791\n",
      "   Abundances median:           0.355500 0.335000\n",
      " - Chisq:                       51.36253572\n",
      "*Iter       3    CHI-SQUARE =  51.36253572  DOF =  0\n",
      "   teff = 7068.41213  \n",
      "   logg = 5  \n",
      "   Vmic = 3.641688544  \n",
      "   MH = 0.4032368199  \n",
      "   alpha = 0  \n",
      "Generating: 7568 5.00 0.40 0.00 3.64 \n",
      " # Element:                   Fe 1 / Fe 2\n",
      "    Teff/Vmic slopes:            -0.052381 0.058699\n",
      "   Abundances diff:             0.239000\n",
      "   Abundances diff with model:  -0.188763\n",
      "   Abundances stdev:            0.473709 0.708436\n",
      "   Abundances median:           0.592000 0.353000\n",
      " - Chisq:                       994.1034176\n",
      "Generating: 7068 4.50 0.40 0.00 3.64 \n",
      " # Element:                   Fe 1 / Fe 2\n",
      "    Teff/Vmic slopes:            -0.001017 0.041334\n",
      "   Abundances diff:             0.203000\n",
      "   Abundances diff with model:  0.040237\n",
      "   Abundances stdev:            0.467551 0.713907\n",
      "   Abundances median:           0.363000 0.160000\n",
      " - Chisq:                       445.1853385\n",
      "Generating: 7068 5.00 0.40 0.00 4.14 \n",
      " # Element:                   Fe 1 / Fe 2\n",
      "    Teff/Vmic slopes:            -0.003987 -0.011906\n",
      "   Abundances diff:             0.089500\n",
      "   Abundances diff with model:  0.067737\n",
      "   Abundances stdev:            0.466087 0.712937\n",
      "   Abundances median:           0.335500 0.246000\n",
      " - Chisq:                       130.6789901\n",
      "Generating: 7068 5.00 0.45 0.00 3.64 \n",
      " # Element:                   Fe 1 / Fe 2\n",
      "    Teff/Vmic slopes:            -0.010895 0.043964\n",
      "   Abundances diff:             0.021000\n",
      "   Abundances diff with model:  0.094237\n",
      "   Abundances stdev:            0.466134 0.712672\n",
      "   Abundances median:           0.359000 0.338000\n",
      " - Chisq:                       105.9253432\n",
      "Generating: 6906 5.00 0.22 0.00 4.03 \n",
      " # Element:                   Fe 1 / Fe 2\n",
      "    Teff/Vmic slopes:            0.009572 0.001409\n",
      "   Abundances diff:             -0.001000\n",
      "   Abundances diff with model:  -0.031296\n",
      "   Abundances stdev:            0.465205 0.715169\n",
      "   Abundances median:           0.255000 0.256000\n",
      " - Chisq:                       9.94608465\n",
      "*Iter       4    CHI-SQUARE =  9.94608465  DOF =  0\n",
      "   teff = 6905.675887  \n",
      "   logg = 5  \n",
      "   Vmic = 4.033824387  \n",
      "   MH = 0.2237042373  \n",
      "   alpha = 0  \n",
      "Generating: 7406 5.00 0.22 0.00 4.03 \n",
      " # Element:                   Fe 1 / Fe 2\n",
      "    Teff/Vmic slopes:            -0.033648 0.014754\n",
      "   Abundances diff:             0.223500\n",
      "   Abundances diff with model:  -0.264796\n",
      "   Abundances stdev:            0.470195 0.710520\n",
      "   Abundances median:           0.488500 0.265000\n",
      " - Chisq:                       1189.021184\n",
      "Generating: 6906 4.50 0.22 0.00 4.03 \n",
      " # Element:                   Fe 1 / Fe 2\n",
      "    Teff/Vmic slopes:            0.019239 -0.004754\n",
      "   Abundances diff:             0.176000\n",
      "   Abundances diff with model:  -0.031296\n",
      "   Abundances stdev:            0.466014 0.716362\n",
      "   Abundances median:           0.255000 0.079000\n",
      " - Chisq:                       322.6873964\n",
      "Generating: 6906 5.00 0.22 0.00 4.53 \n",
      " # Element:                   Fe 1 / Fe 2\n",
      "    Teff/Vmic slopes:            0.015206 -0.046981\n",
      "   Abundances diff:             0.060500\n",
      "   Abundances diff with model:  -0.020796\n",
      "   Abundances stdev:            0.465903 0.715665\n",
      "   Abundances median:           0.244500 0.184000\n",
      " - Chisq:                       64.98686797\n",
      "Generating: 6906 5.00 0.27 0.00 4.03 \n",
      " # Element:                   Fe 1 / Fe 2\n",
      "    Teff/Vmic slopes:            0.009254 -0.000820\n",
      "   Abundances diff:             0.000500\n",
      "   Abundances diff with model:  0.014204\n",
      "   Abundances stdev:            0.465155 0.714918\n",
      "   Abundances median:           0.259500 0.259000\n",
      " - Chisq:                       1.86558916\n",
      "Generating: 6987 5.00 0.31 0.00 4.05 \n",
      " # Element:                   Fe 1 / Fe 2\n",
      "    Teff/Vmic slopes:            0.002286 -0.002159\n",
      "   Abundances diff:             0.042000\n",
      "   Abundances diff with model:  0.011594\n",
      "   Abundances stdev:            0.465530 0.714066\n",
      "   Abundances median:           0.296000 0.254000\n",
      " - Chisq:                       18.73887077\n",
      "Cache: 6987 5.00 0.31 0.00 4.05 \n",
      "Cache: 6987 5.00 0.31 0.00 4.05 \n",
      "Generating: 6924 5.00 0.27 0.00 4.03 \n"
     ]
    },
    {
     "name": "stdout",
     "output_type": "stream",
     "text": [
      " # Element:                   Fe 1 / Fe 2\n",
      "    Teff/Vmic slopes:            0.007638 -0.000602\n",
      "   Abundances diff:             0.013000\n",
      "   Abundances diff with model:  0.000720\n",
      "   Abundances stdev:            0.465203 0.714808\n",
      "   Abundances median:           0.270000 0.257000\n",
      " - Chisq:                       2.27701448\n",
      "Cache: 6924 5.00 0.27 0.00 4.03 \n",
      "Cache: 6924 5.00 0.27 0.00 4.03 \n",
      "\n",
      "\n",
      "                teff\t    logg\t      MH\t   alpha\t    vmic\n",
      "Solution:    6923.95\t    5.00\t    0.27\t    0.00\t    4.03\n",
      "Errors:        87.46\t    0.13\t    0.47\t    0.00\t    0.11\n",
      "\n",
      "Calculation time:\t0:0:0:8\n",
      "\n",
      "               DOF\t   niter\tnsynthesis\t  wchisq\t rwchisq\t   chisq\t  rchisq\t     rms\n",
      "Stats:           0\t       5\t      25\t2.277014\t     inf\t0.000228\t     inf\t0.007545\n",
      "Return code: 1\n",
      "2\n"
     ]
    },
    {
     "name": "stderr",
     "output_type": "stream",
     "text": [
      "/home/ADF/axf859/iSpec/ispec/modeling/ew.py:592: RuntimeWarning: divide by zero encountered in double_scalars\n",
      "  self.reduced_chisq = self.chisq/self.m.dof\n",
      "/home/ADF/axf859/iSpec/ispec/modeling/ew.py:595: RuntimeWarning: divide by zero encountered in double_scalars\n",
      "  self.reduced_wchisq = self.wchisq/ self.m.dof\n"
     ]
    }
   ],
   "source": [
    "import pipeline\n"
   ]
  },
  {
   "cell_type": "code",
   "execution_count": 2,
   "id": "7da675de",
   "metadata": {
    "scrolled": false
   },
   "outputs": [
    {
     "data": {
      "application/vnd.jupyter.widget-view+json": {
       "model_id": "b36b5bf0fefd4606b9b57dc22c89bcf9",
       "version_major": 2,
       "version_minor": 0
      },
      "text/plain": [
       "VBox(children=(VBox(children=(Button(description='Run Analysis', style=ButtonStyle()),)), Output(layout=Layout…"
      ]
     },
     "metadata": {},
     "output_type": "display_data"
    },
    {
     "name": "stdout",
     "output_type": "stream",
     "text": [
      "['/home/ADF/axf859/BEBOP/J0000+29/']\n",
      "set params\n",
      "model selected\n",
      "linelist selected\n",
      "solar abundances loaded\n"
     ]
    }
   ],
   "source": [
    "import synth\n",
    "\n"
   ]
  }
 ],
 "metadata": {
  "kernelspec": {
   "display_name": "Python 3 (ipykernel)",
   "language": "python",
   "name": "python3"
  },
  "language_info": {
   "codemirror_mode": {
    "name": "ipython",
    "version": 3
   },
   "file_extension": ".py",
   "mimetype": "text/x-python",
   "name": "python",
   "nbconvert_exporter": "python",
   "pygments_lexer": "ipython3",
   "version": "3.9.13"
  }
 },
 "nbformat": 4,
 "nbformat_minor": 5
}
